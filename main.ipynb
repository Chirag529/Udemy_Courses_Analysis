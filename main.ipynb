{
 "cells": [
  {
   "cell_type": "markdown",
   "metadata": {},
   "source": [
    "\n",
    "# Udemy Courses Analysis Project\n",
    "\n",
    "## Project Overview\n",
    "\n",
    "In this project, we will delve into a comprehensive analysis of a dataset containing information about Udemy courses. As an enthusiastic data analyst eager to work in the data field, you have a unique opportunity to gain valuable insights from this dataset while honing your skills in Python, SQL, Excel, and data analysis.\n",
    "\n",
    "## Project Objective\n",
    "\n",
    "The primary objective of this project is to extract actionable insights from the Udemy dataset. By leveraging your data analysis skills and industry expertise, we aim to achieve the following:\n",
    "\n",
    "1.  **Gain Insights into Course Popularity:** We will explore which courses attract the most subscribers and why. This analysis will involve examining factors such as course subject, pricing, and content duration.\n",
    "    \n",
    "2.  **Pricing Strategies:** We will investigate Udemy's pricing strategies by analyzing the distribution of course prices. This analysis will help us understand how price affects course enrollment.\n",
    "    \n",
    "3.  **Subject Analysis:** We will categorize courses by subject and examine the distribution of courses within each subject. Are certain subjects more popular than others?\n",
    "    \n",
    "4.  **Trends and Patterns:** Identifying trends and patterns in the data will be a key focus. We will look for correlations between variables like the number of subscribers, the number of reviews, and course difficulty level.\n",
    "    \n",
    "5.  **Data Visualization:** Data visualization will play a crucial role in presenting our findings. We will use various charts and graphs to make the analysis results more accessible and understandable.\n",
    "    \n",
    "6.  **Python Code Optimization:** Throughout the project, we will ensure that our Python code adheres to the PEP-8 guidelines for code style and optimization. Clean and efficient code is essential for effective data analysis.\n",
    "    \n",
    "7.  **Documentation:** Detailed documentation of the code and analysis steps will be maintained, including comments in Python code. This documentation will serve as a reference for future work and collaborations.\n",
    "    \n",
    "\n",
    "## Dataset Description\n",
    "\n",
    "The dataset consists of the following columns:\n",
    "\n",
    "1.  `course_id`: Unique identifier for each course.\n",
    "2.  `course_title`: The title or name of the course.\n",
    "3.  `is_paid`: Indicates whether the course is paid (True/False).\n",
    "4.  `price`: The price of the course.\n",
    "5.  `num_subscribers`: The number of subscribers to the course.\n",
    "6.  `num_reviews`: The number of reviews for the course.\n",
    "7.  `num_lectures`: The number of lectures in the course.\n",
    "8.  `level`: The difficulty level of the course (e.g., beginner, intermediate, advanced).\n",
    "9.  `content_duration`: The duration of the course content.\n",
    "10.  `published_timestamp`: The timestamp when the course was published.\n",
    "11.  `subject`: The subject or category of the course."
   ]
  },
  {
   "cell_type": "code",
   "execution_count": 10,
   "metadata": {},
   "outputs": [],
   "source": [
    "import pandas as pd\n",
    "import matplotlib.pyplot as plt\n",
    "import seaborn as sb"
   ]
  },
  {
   "cell_type": "markdown",
   "metadata": {},
   "source": [
    "Read the dataset with the pandas library"
   ]
  },
  {
   "cell_type": "code",
   "execution_count": 11,
   "metadata": {},
   "outputs": [],
   "source": [
    "df = pd.read_csv(\"7. Udemy Courses.csv\", encoding=\"UTF-8\")"
   ]
  },
  {
   "cell_type": "code",
   "execution_count": 12,
   "metadata": {},
   "outputs": [
    {
     "name": "stdout",
     "output_type": "stream",
     "text": [
      "   course_id                                       course_title  is_paid  \\\n",
      "0     288942  #1 Piano Hand Coordination: Play 10th Ballad i...     True   \n",
      "1    1170074  #10 Hand Coordination - Transfer Chord Ballad ...     True   \n",
      "2    1193886  #12 Hand Coordination: Let your Hands dance wi...     True   \n",
      "3    1116700  #4 Piano Hand Coordination: Fun Piano Runs in ...     True   \n",
      "4    1120410  #5  Piano Hand Coordination:  Piano Runs in 2 ...     True   \n",
      "\n",
      "  price  num_subscribers  num_reviews  num_lectures               level  \\\n",
      "0    35             3137           18            68          All Levels   \n",
      "1    75             1593            1            41  Intermediate Level   \n",
      "2    75              482            1            47  Intermediate Level   \n",
      "3    75              850            3            43  Intermediate Level   \n",
      "4    75              940            3            32  Intermediate Level   \n",
      "\n",
      "  content_duration   published_timestamp              subject  \n",
      "0        1.5 hours  2014-09-18T05:07:05Z  Musical Instruments  \n",
      "1           1 hour  2017-04-12T19:06:34Z  Musical Instruments  \n",
      "2        1.5 hours  2017-04-26T18:34:57Z  Musical Instruments  \n",
      "3           1 hour  2017-02-21T23:48:18Z  Musical Instruments  \n",
      "4          37 mins  2017-02-21T23:44:49Z  Musical Instruments  \n"
     ]
    }
   ],
   "source": [
    "# Print the top 5 lines of the  file.\n",
    "print(df.head(5))\n"
   ]
  },
  {
   "cell_type": "markdown",
   "metadata": {},
   "source": [
    "#### Let's Explore the dataset"
   ]
  },
  {
   "cell_type": "code",
   "execution_count": 13,
   "metadata": {},
   "outputs": [
    {
     "data": {
      "text/html": [
       "<div>\n",
       "<style scoped>\n",
       "    .dataframe tbody tr th:only-of-type {\n",
       "        vertical-align: middle;\n",
       "    }\n",
       "\n",
       "    .dataframe tbody tr th {\n",
       "        vertical-align: top;\n",
       "    }\n",
       "\n",
       "    .dataframe thead th {\n",
       "        text-align: right;\n",
       "    }\n",
       "</style>\n",
       "<table border=\"1\" class=\"dataframe\">\n",
       "  <thead>\n",
       "    <tr style=\"text-align: right;\">\n",
       "      <th></th>\n",
       "      <th>course_id</th>\n",
       "      <th>num_subscribers</th>\n",
       "      <th>num_reviews</th>\n",
       "      <th>num_lectures</th>\n",
       "    </tr>\n",
       "  </thead>\n",
       "  <tbody>\n",
       "    <tr>\n",
       "      <th>count</th>\n",
       "      <td>3.682000e+03</td>\n",
       "      <td>3682.000000</td>\n",
       "      <td>3682.000000</td>\n",
       "      <td>3682.000000</td>\n",
       "    </tr>\n",
       "    <tr>\n",
       "      <th>mean</th>\n",
       "      <td>6.766121e+05</td>\n",
       "      <td>3194.230310</td>\n",
       "      <td>156.093156</td>\n",
       "      <td>40.065182</td>\n",
       "    </tr>\n",
       "    <tr>\n",
       "      <th>std</th>\n",
       "      <td>3.436355e+05</td>\n",
       "      <td>9499.378361</td>\n",
       "      <td>934.957204</td>\n",
       "      <td>50.373299</td>\n",
       "    </tr>\n",
       "    <tr>\n",
       "      <th>min</th>\n",
       "      <td>8.324000e+03</td>\n",
       "      <td>0.000000</td>\n",
       "      <td>0.000000</td>\n",
       "      <td>0.000000</td>\n",
       "    </tr>\n",
       "    <tr>\n",
       "      <th>25%</th>\n",
       "      <td>4.078430e+05</td>\n",
       "      <td>110.250000</td>\n",
       "      <td>4.000000</td>\n",
       "      <td>15.000000</td>\n",
       "    </tr>\n",
       "    <tr>\n",
       "      <th>50%</th>\n",
       "      <td>6.885580e+05</td>\n",
       "      <td>911.500000</td>\n",
       "      <td>18.000000</td>\n",
       "      <td>25.000000</td>\n",
       "    </tr>\n",
       "    <tr>\n",
       "      <th>75%</th>\n",
       "      <td>9.617515e+05</td>\n",
       "      <td>2540.250000</td>\n",
       "      <td>67.000000</td>\n",
       "      <td>45.000000</td>\n",
       "    </tr>\n",
       "    <tr>\n",
       "      <th>max</th>\n",
       "      <td>1.282064e+06</td>\n",
       "      <td>268923.000000</td>\n",
       "      <td>27445.000000</td>\n",
       "      <td>779.000000</td>\n",
       "    </tr>\n",
       "  </tbody>\n",
       "</table>\n",
       "</div>"
      ],
      "text/plain": [
       "          course_id  num_subscribers   num_reviews  num_lectures\n",
       "count  3.682000e+03      3682.000000   3682.000000   3682.000000\n",
       "mean   6.766121e+05      3194.230310    156.093156     40.065182\n",
       "std    3.436355e+05      9499.378361    934.957204     50.373299\n",
       "min    8.324000e+03         0.000000      0.000000      0.000000\n",
       "25%    4.078430e+05       110.250000      4.000000     15.000000\n",
       "50%    6.885580e+05       911.500000     18.000000     25.000000\n",
       "75%    9.617515e+05      2540.250000     67.000000     45.000000\n",
       "max    1.282064e+06    268923.000000  27445.000000    779.000000"
      ]
     },
     "execution_count": 13,
     "metadata": {},
     "output_type": "execute_result"
    }
   ],
   "source": [
    "df.describe()"
   ]
  },
  {
   "cell_type": "markdown",
   "metadata": {},
   "source": [
    "Check for null values in the data set"
   ]
  },
  {
   "cell_type": "code",
   "execution_count": 14,
   "metadata": {},
   "outputs": [
    {
     "data": {
      "text/plain": [
       "course_id              0\n",
       "course_title           0\n",
       "is_paid                0\n",
       "price                  0\n",
       "num_subscribers        0\n",
       "num_reviews            0\n",
       "num_lectures           0\n",
       "level                  0\n",
       "content_duration       0\n",
       "published_timestamp    0\n",
       "subject                0\n",
       "dtype: int64"
      ]
     },
     "execution_count": 14,
     "metadata": {},
     "output_type": "execute_result"
    }
   ],
   "source": [
    "df.isnull().sum()"
   ]
  },
  {
   "cell_type": "markdown",
   "metadata": {},
   "source": [
    "So, there are no null values in our dataset which is kind of a good thing. :)"
   ]
  },
  {
   "cell_type": "markdown",
   "metadata": {},
   "source": [
    "Now let's check the data types of our data"
   ]
  },
  {
   "cell_type": "code",
   "execution_count": 15,
   "metadata": {},
   "outputs": [
    {
     "data": {
      "text/plain": [
       "course_id               int64\n",
       "course_title           object\n",
       "is_paid                  bool\n",
       "price                  object\n",
       "num_subscribers         int64\n",
       "num_reviews             int64\n",
       "num_lectures            int64\n",
       "level                  object\n",
       "content_duration       object\n",
       "published_timestamp    object\n",
       "subject                object\n",
       "dtype: object"
      ]
     },
     "execution_count": 15,
     "metadata": {},
     "output_type": "execute_result"
    }
   ],
   "source": [
    "df.dtypes"
   ]
  },
  {
   "cell_type": "code",
   "execution_count": 16,
   "metadata": {},
   "outputs": [],
   "source": [
    "# #outlier elimination\n",
    "# df1=df1[(df1['num_lectures']<400)]\n",
    "# df1=df1[(df1['content_duration']<40)]\n",
    "\n",
    "\n",
    "# To_plot = [\"is_paid\",\"price\",\"num_reviews\",\"num_lectures\",\"content_duration\"]\n",
    "# for i in To_plot:\n",
    "#     sns.jointplot(x=df1[\"num_subscribers\"], y=df1[i], hue=df1[\"Subscribers\"], palette= hue_C )\n",
    "#     plt.show()"
   ]
  }
 ],
 "metadata": {
  "kernelspec": {
   "display_name": "Python 3",
   "language": "python",
   "name": "python3"
  },
  "language_info": {
   "codemirror_mode": {
    "name": "ipython",
    "version": 3
   },
   "file_extension": ".py",
   "mimetype": "text/x-python",
   "name": "python",
   "nbconvert_exporter": "python",
   "pygments_lexer": "ipython3",
   "version": "3.11.1"
  },
  "orig_nbformat": 4
 },
 "nbformat": 4,
 "nbformat_minor": 2
}
